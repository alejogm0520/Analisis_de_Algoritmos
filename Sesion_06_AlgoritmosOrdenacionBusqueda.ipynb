{
 "cells": [
  {
   "cell_type": "markdown",
   "metadata": {},
   "source": [
    "<h1 align=\"center\">ANÁLISIS DE ALGORITMOS</h1>\n",
    "\n",
    "<h2 align=\"center\">Sesión 06: Algoritmos de Ordenación y Búsqueda</h2>\n",
    "\n",
    "<h2 align=\"center\">ESCUELA DE CIENCIAS</h2>\n",
    "\n",
    "<h2 align=\"center\">DOCTORADO EN INGENIERÍA MATEMÁTICA</h2>\n",
    "\n",
    "<h2 align=\"center\">UNIVERSIDAD EAFIT</h2>\n",
    "\n",
    "<h3 align=\"center\">MEDELLÍN - COLOMBIA </h3>\n",
    "\n",
    "<h3 align=\"center\">2019 </h3>"
   ]
  },
  {
   "cell_type": "markdown",
   "metadata": {},
   "source": [
    "### Docente: Carlos Alberto Álvarez Henao, I.C. Ph.D."
   ]
  },
  {
   "cell_type": "markdown",
   "metadata": {},
   "source": [
    "6. Algoritmos de ordenación y búsqueda (Sesión 06, mar/13)\n",
    "\n",
    "    6.1 Caso general\n",
    "    \n",
    "    6.2 Algoritmos de ordenación\n",
    "    \n",
    "    6.3 Algoritmos de búsqueda\n",
    "    \n",
    "    6.4 Ejemplos y desafíos"
   ]
  },
  {
   "cell_type": "markdown",
   "metadata": {},
   "source": [
    "# Coming soon!"
   ]
  },
  {
   "cell_type": "code",
   "execution_count": null,
   "metadata": {},
   "outputs": [],
   "source": []
  }
 ],
 "metadata": {
  "kernelspec": {
   "display_name": "Python 3",
   "language": "python",
   "name": "python3"
  },
  "language_info": {
   "codemirror_mode": {
    "name": "ipython",
    "version": 3
   },
   "file_extension": ".py",
   "mimetype": "text/x-python",
   "name": "python",
   "nbconvert_exporter": "python",
   "pygments_lexer": "ipython3",
   "version": "3.6.7"
  }
 },
 "nbformat": 4,
 "nbformat_minor": 2
}
