{
 "cells": [
  {
   "cell_type": "markdown",
   "metadata": {},
   "source": [
    "<h1 align=\"center\">ANÁLISIS DE ALGORITMOS</h1>\n",
    "\n",
    "<h2 align=\"center\">Sesión 09: Algoritmos Paralelos</h2>\n",
    "\n",
    "<h2 align=\"center\">ESCUELA DE CIENCIAS</h2>\n",
    "\n",
    "<h2 align=\"center\">DOCTORADO EN INGENIERÍA MATEMÁTICA</h2>\n",
    "\n",
    "<h2 align=\"center\">UNIVERSIDAD EAFIT</h2>\n",
    "\n",
    "<h3 align=\"center\">MEDELLÍN - COLOMBIA </h3>\n",
    "\n",
    "<h3 align=\"center\">2019 </h3>"
   ]
  },
  {
   "cell_type": "markdown",
   "metadata": {},
   "source": [
    "### Docente: Carlos Alberto Álvarez Henao, I.C. Ph.D."
   ]
  },
  {
   "cell_type": "markdown",
   "metadata": {},
   "source": [
    "9. Algoritmos paralelos (Sesión 09, abr/03)\n",
    "\n",
    "    9.1 Introducción a la computación paralela\n",
    "    \n",
    "    9.2 Evaluación de expresiones en paralelos\n",
    "    \n",
    "    9.3 Ordenación en paralelo\n",
    "    \n",
    "    9.4 Cómputo distribuido\n",
    "    \n",
    "    9.5 Ejemplos y desafíos"
   ]
  },
  {
   "cell_type": "markdown",
   "metadata": {},
   "source": [
    "# Coming soon!"
   ]
  },
  {
   "cell_type": "code",
   "execution_count": null,
   "metadata": {},
   "outputs": [],
   "source": []
  }
 ],
 "metadata": {
  "kernelspec": {
   "display_name": "Python 3",
   "language": "python",
   "name": "python3"
  },
  "language_info": {
   "codemirror_mode": {
    "name": "ipython",
    "version": 3
   },
   "file_extension": ".py",
   "mimetype": "text/x-python",
   "name": "python",
   "nbconvert_exporter": "python",
   "pygments_lexer": "ipython3",
   "version": "3.6.7"
  }
 },
 "nbformat": 4,
 "nbformat_minor": 2
}
