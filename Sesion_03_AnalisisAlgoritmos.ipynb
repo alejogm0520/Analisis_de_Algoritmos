{
 "cells": [
  {
   "cell_type": "markdown",
   "metadata": {
    "slideshow": {
     "slide_type": "slide"
    }
   },
   "source": [
    "<h1 align=\"center\">ANÁLISIS DE ALGORITMOS</h1>\n",
    "\n",
    "<h2 align=\"center\">Sesión 03: Análisis de Algoritmos\n",
    "\n",
    "<h2 align=\"center\">ESCUELA DE CIENCIAS</h2>\n",
    "\n",
    "<h2 align=\"center\">DOCTORADO EN INGENIERÍA MATEMÁTICA</h2>\n",
    "\n",
    "<h2 align=\"center\">UNIVERSIDAD EAFIT</h2>\n",
    "\n",
    "<h3 align=\"center\">MEDELLÍN - COLOMBIA </h3>\n",
    "\n",
    "<h3 align=\"center\">2019 </h3>"
   ]
  },
  {
   "cell_type": "markdown",
   "metadata": {
    "slideshow": {
     "slide_type": "subslide"
    }
   },
   "source": [
    "### Docente: Carlos Alberto Álvarez Henao, I.C. Ph.D."
   ]
  },
  {
   "cell_type": "markdown",
   "metadata": {
    "slideshow": {
     "slide_type": "subslide"
    }
   },
   "source": [
    "4. Análisis de algoritmos (Sesión 03)\n",
    "\n",
    "    4.1 Por qué analizar un algoritmo?\n",
    "\n",
    "    4.2 Estructuras de control: Secuencias, ciclos para, mientras y repetir, recursividad.\n",
    "    \n",
    "    4.3 Análisis de caso medio y amortizado\n",
    "    \n",
    "    4.4 Ejemplos y desafíos"
   ]
  },
  {
   "cell_type": "markdown",
   "metadata": {
    "slideshow": {
     "slide_type": "slide"
    }
   },
   "source": [
    "Como vimos en un apartado anterior, el objetivo del *análisis* es el de determinar cuál, entre diferentes posibles algoritmos, sería el más eficiente para resolver un problema dado. "
   ]
  },
  {
   "cell_type": "markdown",
   "metadata": {
    "slideshow": {
     "slide_type": "subslide"
    }
   },
   "source": [
    "## 4.1 Por qué analizar un algoritmo?\n",
    "\n",
    "\n",
    "- Clasificar problemas y algoritmos por dificultad\n",
    "\n",
    "\n",
    "- Predecir el desempeño, comparar algoritmos, sintonizar parámetros\n",
    "\n",
    "\n",
    "- Mejorar la comprensión y la implementación de los algoritmos\n",
    "\n",
    "\n",
    "La razón por la que muchas personas analizan algoritmos es debido al desafío intelectual.\n",
    "\n",
    "\n",
    "- Analizar un algoritmos es más interesante y divertido que programarlo"
   ]
  },
  {
   "cell_type": "markdown",
   "metadata": {
    "slideshow": {
     "slide_type": "subslide"
    }
   },
   "source": [
    "***Analytic Engine***\n",
    "\n",
    "*\"As soon as an Analytical Engine exists, it will necessarily guide the future course of the science. Whenever any result is sought by its aid, the question will then arise — **by what course of calculation can these results be arrived at by the machine in the shortest time?**\"*\n",
    "\n",
    "— Charles Babbage, Passages from the Life of a Philosopher (1864)"
   ]
  },
  {
   "cell_type": "markdown",
   "metadata": {
    "slideshow": {
     "slide_type": "subslide"
    }
   },
   "source": [
    "![Imagen](https://github.com/carlosalvarezh/Analisis_de_Algoritmos/blob/master/images/AnalyticEngine.JPG?raw=true \"\")"
   ]
  },
  {
   "cell_type": "markdown",
   "metadata": {
    "slideshow": {
     "slide_type": "fragment"
    }
   },
   "source": [
    "Resulta una pregunta de vital importancia: ***Cuántas veces hay qué mover la manivela hasta encontrar un resultado \"aceptable\"?***"
   ]
  },
  {
   "cell_type": "markdown",
   "metadata": {
    "slideshow": {
     "slide_type": "subslide"
    }
   },
   "source": [
    "- La anterior pregunta no es muy diferente a la pregunta que se hace hoy en día acerca de cómo optimizar el recurso disponible para desempeñar una tarea específica.\n",
    "\n",
    "\n",
    "- *Turing* (que era considerado un teórico) en un artículo de 1947, vió conveniente medir la cantidad de trabajo involucrado en un proceso de cómputo, incluso así sea muy burdo."
   ]
  },
  {
   "cell_type": "code",
   "execution_count": 1,
   "metadata": {
    "scrolled": false,
    "slideshow": {
     "slide_type": "subslide"
    }
   },
   "outputs": [
    {
     "data": {
      "text/html": [
       "\n",
       "        <iframe\n",
       "            width=\"100%\"\n",
       "            height=\"600px\"\n",
       "            src=\"https://academic.oup.com/qjmam/article-pdf/1/1/287/5323145/1-1-287.pdf\"\n",
       "            frameborder=\"0\"\n",
       "            allowfullscreen\n",
       "        ></iframe>\n",
       "        "
      ],
      "text/plain": [
       "<IPython.lib.display.IFrame at 0x1fb59847d68>"
      ]
     },
     "metadata": {},
     "output_type": "display_data"
    }
   ],
   "source": [
    "from IPython.display import IFrame\n",
    "display(IFrame('https://academic.oup.com/qjmam/article-pdf/1/1/287/5323145/1-1-287.pdf', '100%', '600px'))"
   ]
  },
  {
   "cell_type": "markdown",
   "metadata": {
    "slideshow": {
     "slide_type": "subslide"
    }
   },
   "source": [
    "El análisis de algoritmos realmente entró a la \"*escena científica*\" a partir de los años $60's$ luego de la publicación por parte de *[Donald E. Knuth](https://www-cs-faculty.stanford.edu/~knuth/ \"Donald E. Knuth's home page\")* de su serie de siete volúmenes de *El Arte de la Programación de Computadores ([The Art of Programming Computers - TAOCP](https://www-cs-faculty.stanford.edu/~knuth/taocp.html \"The Art of Programming Computers home page\"))*."
   ]
  },
  {
   "cell_type": "markdown",
   "metadata": {
    "slideshow": {
     "slide_type": "fragment"
    }
   },
   "source": [
    "\n",
    "![Imagen](https://github.com/carlosalvarezh/Analisis_de_Algoritmos/blob/master/images/taocp.jpg?raw=true \"\")\n",
    "\n",
    "Recuperado de: https://www-cs-faculty.stanford.edu/~knuth/taocp.html"
   ]
  },
  {
   "cell_type": "markdown",
   "metadata": {
    "slideshow": {
     "slide_type": "subslide"
    }
   },
   "source": [
    "- **Puso las bases científicas del tema:** Antes se pensaba que iba a ser demasiado complicado averiguar realmente qué tipo de recursos consumían los programas."
   ]
  },
  {
   "cell_type": "markdown",
   "metadata": {
    "slideshow": {
     "slide_type": "subslide"
    }
   },
   "source": [
    "Para analizar un algoritmo, ***Knuth*** presentó una serie de pasos bastante simples acerca de lo que hay que hacer:\n",
    "\n",
    "- Desarrolle una buena implementación.\n",
    "\n",
    "\n",
    "- Identifique cantidades desconocidas que representan las operaciones básicas.\n",
    "\n",
    "\n",
    "- Determine el costo de cada operación básica.\n",
    "\n",
    "\n",
    "- Desarrollar un modelo realista para la entrada.\n",
    "\n",
    "\n",
    "- Analice la frecuencia de ejecución de las cantidades desconocidas.\n",
    "\n",
    "\n",
    "- Calcular el tiempo total de ejecución: $\\sum \\limits_q Frecuencia(q) \\times costo(q)$."
   ]
  },
  {
   "cell_type": "markdown",
   "metadata": {
    "slideshow": {
     "slide_type": "subslide"
    }
   },
   "source": [
    "***Pros:***\n",
    "\n",
    "- **Fundamentación científica del *AofA*:** Nos brinda un proceso mediante el cual podemos desarrollar modelos matemáticos, desarrollar hipótesis sobre el rendimiento y comparar algoritmos, y luego probar esas hipótesis científicamente.\n",
    "\n",
    "***Cons:***\n",
    "\n",
    "- El modelo puede ser poco realista y necesitar de demasiados detalles para su análisis."
   ]
  },
  {
   "cell_type": "markdown",
   "metadata": {
    "slideshow": {
     "slide_type": "subslide"
    }
   },
   "source": [
    "Para hacerle frente a los inconvenientes de las ideas de *Knuth*, desde los $70's \\ldots$ hasta hoy, el estudio de los algoritmos ha girado en torno a los libros de *Aho, Hopcroft y Ullman*; *Cormen, Leiserson, Rivest y Stein*, y otros. \n",
    "\n",
    "- Analizan el peor de los casos. Lo que hace es \"*sacarle una foto\"* al modelo y tener garantía sobre el peor tiempo de ejecución de un algoritmo.\n",
    "\n",
    "\n",
    "- Usa la notación $\\mathcal{O}(n)$ y se intenta obtener un límite superior en el peor de los casos. Esta es una idea para obtener muchos de los detalles del análisis."
   ]
  },
  {
   "cell_type": "markdown",
   "metadata": {
    "slideshow": {
     "slide_type": "subslide"
    }
   },
   "source": [
    "***Pros:***\n",
    "\n",
    "- Enfoque exitoso que desencadenó una era de *Diseño de Algoritmos*, donde se probaron todo tipo de nuevas ideas para reducir costos garantizados por el *peor caso*, con el objetivo final de poder desarrollar algoritmos óptimo donde el peor de los costos es igual al mejor posible.\n",
    "\n",
    "\n",
    "***Cons:***\n",
    "\n",
    "- Por lo general, no se puede usar para predecir el rendimiento o comparar algoritmos. "
   ]
  },
  {
   "cell_type": "markdown",
   "metadata": {
    "slideshow": {
     "slide_type": "slide"
    }
   },
   "source": [
    "## 4.2 Estructuras de control"
   ]
  },
  {
   "cell_type": "markdown",
   "metadata": {
    "slideshow": {
     "slide_type": "fragment"
    }
   },
   "source": [
    "Las estructuras de control son empleadas en la formulación de algoritmos para determinar el flujo de la información, o instrucciones, de un problema dado.\n",
    "\n",
    "El análisis del tiempo de ejecución de cada estructura se efectúa de adentro hacia afuera: \n",
    "\n",
    "- Primero, se determina el tiempo requerido por las instrucciones de forma individual (por lo general acotada por una constante).\n",
    "\n",
    "\n",
    "- Luego se combinan estos tiempos de acuerdo a la estructura de control que enlaza las instrucciones del programa.\n",
    "\n",
    "\n",
    "- En algoritmos se tienen principalmente tres estructuras: \n",
    "    - Secuencia\n",
    "    - Ciclos *Para* (`for`) y *Mientras* (`while`)\n",
    "    - Condicionales (`if`)"
   ]
  },
  {
   "cell_type": "markdown",
   "metadata": {
    "slideshow": {
     "slide_type": "subslide"
    }
   },
   "source": [
    "### 4.2.1. Secuencia\n",
    "\n",
    "En esta estructura cada instrucción se ejecuta una detrás de la otra.\n",
    "\n",
    "Sean $P_1$ y $P_2$ dos fragmentos de un algoritmo. Sean $t_1$ y $t_2$ los tiempos requeridos respectivamente. La ***regla de composición secuencial*** indica que el tiempo necesario para calcular $\"P_1;P_2\"$ (primero $P_1$ y luego $P_2$) es simplemente $t_1 + t_2$. por la ***regla del máximo*** este tiempo está en $\\mathcal{O}(max(t_1,t_2))$\n",
    "\n",
    "\n",
    "- No siempre el análisis \"$P_1;P_2$\" se puede considerar con $P_1$ y $P_2$ independientes, ya que alguno de los parámetros que controla el tiempo de $t_2$ puede depender del resultado de $P_1$."
   ]
  },
  {
   "cell_type": "markdown",
   "metadata": {
    "slideshow": {
     "slide_type": "slide"
    }
   },
   "source": [
    "### 4.2.2 Ciclos *\"Para\"*  (`for`)\n",
    "\n",
    "Son ciclos del tipo"
   ]
  },
  {
   "cell_type": "raw",
   "metadata": {
    "slideshow": {
     "slide_type": "fragment"
    }
   },
   "source": [
    "Para i = 1 hasta m hacer:\n",
    "    P(i)"
   ]
  },
  {
   "cell_type": "markdown",
   "metadata": {
    "slideshow": {
     "slide_type": "subslide"
    }
   },
   "source": [
    "- Se asumirá que el ciclo hace parte de un algoritmo más extenso que trabaja para un ejemplar de tamaño $n$\n",
    "\n",
    "\n",
    "- $m$ no necesariamente es igual a $n$, es solo la cantidad de veces que hay qué repetir las instrucciones $P(i)$.\n",
    "\n",
    "\n",
    "- Si $P(i)$ no depende de $i$, se tendría el caso más sencillo, ya que se efectuará $m$ veces con un costo de tiempo de $t$, para un total de $l=mt$ (cota inferior)"
   ]
  },
  {
   "cell_type": "markdown",
   "metadata": {
    "slideshow": {
     "slide_type": "subslide"
    }
   },
   "source": [
    "Se debe tener mucho cuidado al realizar un análisis para un ciclo `for`, pues en este breve análisis no se contabilizó el tiempo necesario para el control del ciclo. Para evitar esto, se debe considerar el ciclo `for` como si fuera una abreviación de un ciclo ***mientras*** (`while`) de la siguiente forma:"
   ]
  },
  {
   "cell_type": "raw",
   "metadata": {
    "slideshow": {
     "slide_type": "fragment"
    }
   },
   "source": [
    "i = 1\n",
    "mientras i <= m hacer\n",
    "    P(i)\n",
    "    i = i+1"
   ]
  },
  {
   "cell_type": "markdown",
   "metadata": {
    "slideshow": {
     "slide_type": "fragment"
    }
   },
   "source": [
    "Una estructura `for` se compone de una asignación, una comparación y un incremento, cada una de ellas consume un determinado tiempo.\n",
    "\n",
    "\n",
    "- Se puede asignar un costo unitario a la comprobación $i \\leq m$, a las instrucciones $i=1$ e $i=i+1$ y a las instrucciones de salto (implícitas) en el ciclo `while`."
   ]
  },
  {
   "cell_type": "markdown",
   "metadata": {
    "slideshow": {
     "slide_type": "subslide"
    }
   },
   "source": [
    "- Sea $c$ una cota superior del tiempo requerido por cada una de las operaciones. \n",
    "\n",
    "\n",
    "- El tiempo $l$ requerido por el ciclo es acotado superiormente por:"
   ]
  },
  {
   "cell_type": "markdown",
   "metadata": {
    "slideshow": {
     "slide_type": "fragment"
    }
   },
   "source": [
    "$$l \\leq \\underbrace{c}_{i \\leftarrow 1} + \\underbrace{(m+1)c}_{i \\leq m} + \\underbrace{mt}_{P(i)} + \\underbrace{mc}_{i \\leftarrow i+1} + \\underbrace{mc}_{instruccion \\hspace{0.1cm} salto} \\leq (t+3c)m+2c$$"
   ]
  },
  {
   "cell_type": "markdown",
   "metadata": {
    "slideshow": {
     "slide_type": "fragment"
    }
   },
   "source": [
    "Si $c$ es despreciable en comparación con $t$, entonces la estimación inicial del tiempo $l=mt$ era adecuada, salvo una situación crucial:\n",
    "\n",
    "- $l\\approx mt$ es incorrecto si $m=0$. Esta es la situación cuando el ciclo no se ejecutaría ni una sola vez. (se ampliará sobre esta idea más adelante)"
   ]
  },
  {
   "cell_type": "markdown",
   "metadata": {
    "slideshow": {
     "slide_type": "subslide"
    }
   },
   "source": [
    "### Reglas de la estructura *Para (`for`)*\n"
   ]
  },
  {
   "cell_type": "markdown",
   "metadata": {
    "slideshow": {
     "slide_type": "subslide"
    }
   },
   "source": [
    "***Regla 1:*** \n",
    "\n",
    "- El tiempo de ejecución de un ciclo `for` es a lo sumo el tiempo de ejecución de las instrucciones que están en el interior del ciclo más el tiempo del control, multiplicado todo por el número total de iteraciones, $n$.\n",
    "\n",
    "$$T=(T_{interior} + T_{for})\\times n$$\n",
    "\n",
    "***Ej.***"
   ]
  },
  {
   "cell_type": "raw",
   "metadata": {
    "slideshow": {
     "slide_type": "fragment"
    }
   },
   "source": [
    "Para i desde 0 hasta n hacer:\n",
    "    i += 1                        O(1)"
   ]
  },
  {
   "cell_type": "markdown",
   "metadata": {},
   "source": [
    "Del algoritmo mostrado, se tiene:\n",
    "\n",
    "- ***Asignación:*** 1\n",
    "\n",
    "- ***Comparaciones:*** $\\sum \\limits_{i=1}^n 1 + 1 = n + 1$\n",
    "\n",
    "- ***Incrementos:*** $n$\n",
    "\n",
    "con esto: $1 + n+1 +1 = 2n+2$ es la complejidad de un ciclo `for` básico sin modificaciones."
   ]
  },
  {
   "cell_type": "code",
   "execution_count": 5,
   "metadata": {
    "collapsed": true
   },
   "outputs": [
    {
     "name": "stdout",
     "output_type": "stream",
     "text": [
      "incremento 3\n",
      "incremento 4\n",
      "incremento 5\n",
      "incremento 6\n",
      "incremento 7\n",
      "incremento 8\n",
      "incremento 9\n",
      "incremento 10\n",
      "total 10\n"
     ]
    }
   ],
   "source": [
    "n = 10\n",
    "for i in range(2,n):\n",
    "    i += 1\n",
    "    print(\"incremento\",i)\n",
    "print(\"total\",i)"
   ]
  },
  {
   "cell_type": "markdown",
   "metadata": {
    "slideshow": {
     "slide_type": "subslide"
    }
   },
   "source": [
    "Cuál sería la complejidad del siguiente algoritmo?"
   ]
  },
  {
   "cell_type": "raw",
   "metadata": {
    "slideshow": {
     "slide_type": "fragment"
    }
   },
   "source": [
    "Para i desde 0 hasta n/2 hacer:\n",
    "    i += 2"
   ]
  },
  {
   "cell_type": "markdown",
   "metadata": {
    "slideshow": {
     "slide_type": "subslide"
    }
   },
   "source": [
    "***Regla 2:*** \n",
    "\n",
    "- El tiempo de un grupo de ciclos `for`es a lo más el tiempo de ejecución de las instrucciones que están en el interior del ciclo multiplicado por el producto de los tamaños de todos los ciclos `for`.\n",
    "\n",
    "***Ej.***"
   ]
  },
  {
   "cell_type": "raw",
   "metadata": {
    "slideshow": {
     "slide_type": "fragment"
    }
   },
   "source": [
    "k = 0                               (1)\n",
    "Para i desde 1 hasta n hacer:       (2n+2)\n",
    "    Para j desde 1 hasta n hacer:   (2n+2)n\n",
    "        k += 1                      (1*n*n)"
   ]
  },
  {
   "cell_type": "markdown",
   "metadata": {
    "slideshow": {
     "slide_type": "fragment"
    }
   },
   "source": [
    "$$1 + \\sum \\limits_{i=1}^n \\sum \\limits_{j=1}^n k = 1+(2n+2)+(2n+2)n + n\\times n = 3+2n+2n^2+2n+n^2 = 3n^2+4 n+3 = n^2+n = n^2$$"
   ]
  },
  {
   "cell_type": "markdown",
   "metadata": {
    "slideshow": {
     "slide_type": "subslide"
    }
   },
   "source": [
    "### 4.2.3 Ciclos *\"Mientras\"*  (`while`)"
   ]
  },
  {
   "cell_type": "markdown",
   "metadata": {
    "slideshow": {
     "slide_type": "subslide"
    }
   },
   "source": [
    "El tiempo en una estructura *Mientras* (`while`) es la multiplicación del tiempo de la estructura interior por el número de ciclos de esta estructura `while`, $n$.\n",
    "\n",
    "$$T = (T_{interior} + T_{while}) \\times n$$"
   ]
  },
  {
   "cell_type": "markdown",
   "metadata": {
    "slideshow": {
     "slide_type": "fragment"
    }
   },
   "source": [
    "Por el tipo de estructura, no hay forma de conocer, a priori, cuántas veces se pasará por el ciclo. El procedimiento de cálculo sería entonces:\n",
    "\n",
    "- Hallar una función de las variables implicadas en el control del ciclo.\n",
    "\n",
    "\n",
    "- Determinar el valor para el cual los ciclos de la estructura llegan a su final.\n",
    "\n",
    "\n",
    "- Determinar la forma en que disminuyen las variables de control del ciclo.\n",
    "\n",
    "\n",
    "***Ej.***"
   ]
  },
  {
   "cell_type": "raw",
   "metadata": {
    "slideshow": {
     "slide_type": "subslide"
    }
   },
   "source": [
    "j <-- 1                           O(1)\n",
    "Mientras j <= n hacer:\n",
    "    modulo(A)                     O(m)\n",
    "    j <-- j * B                   O(2)"
   ]
  },
  {
   "cell_type": "markdown",
   "metadata": {
    "slideshow": {
     "slide_type": "fragment"
    }
   },
   "source": [
    "Resolviendo el ciclo para llevar las cuentas\n",
    "\n",
    "$$T = n - j + 1$$\n",
    "$$j > n$$\n",
    "$$j \\leftarrow 1, B, B^2, B^3, \\ldots, B^k$$\n",
    "\n",
    "por lo tanto, $mod(A)$ se repite $k$ veces\n",
    "\n",
    "$$B^k>n \\rightarrow log_B(B^k)>log_B(n) \\rightarrow k > log_B(n) \\rightarrow k = log_B(n) + c$$\n",
    "\n",
    "con esto,\n",
    "\n",
    "\n",
    "$$T_{while} = (m+4)\\times (log_B(n)+c) + 3$$"
   ]
  },
  {
   "cell_type": "markdown",
   "metadata": {
    "slideshow": {
     "slide_type": "subslide"
    }
   },
   "source": [
    "### 4.2.4 Estructura condicional *Si* (`if`)"
   ]
  },
  {
   "cell_type": "markdown",
   "metadata": {
    "slideshow": {
     "slide_type": "subslide"
    }
   },
   "source": [
    "***Regla 1:***\n",
    "\n",
    "- El tiempo de ejecución del condicional es la suma del tiempo de ejecucion del condicional y el mayor de los tiempos de ejecución de las alternativas (dos ejecuciones simples o una compuesta y una simple)\n",
    "\n",
    "$$T = T_{if} + max(T_{then}, T_{else})$$"
   ]
  },
  {
   "cell_type": "markdown",
   "metadata": {
    "slideshow": {
     "slide_type": "subslide"
    }
   },
   "source": [
    "***Regla 2:***\n",
    "\n",
    "- El tiempo nunca es mayor que el tiempo de ejecución del condicional más el mayor de los tiempos de ejecución de las alternativas (dos instrucciones compuestas)\n",
    "\n",
    "\n",
    "***Ej.***"
   ]
  },
  {
   "cell_type": "raw",
   "metadata": {
    "slideshow": {
     "slide_type": "fragment"
    }
   },
   "source": [
    "Si i = j entonces:              O(1)\n",
    "    suma <-- suma + 1           O(2)\n",
    "Sino\n",
    "    suma <-- suma + i * j       O(3)"
   ]
  },
  {
   "cell_type": "markdown",
   "metadata": {
    "slideshow": {
     "slide_type": "fragment"
    }
   },
   "source": [
    "$$T(n) = 1 + max(2 , 3) = 4$$"
   ]
  },
  {
   "cell_type": "raw",
   "metadata": {
    "slideshow": {
     "slide_type": "subslide"
    }
   },
   "source": [
    "Se tomará el caso peor posible\n",
    "\n",
    "Si condición 1 entonces:\n",
    "    Tratamiento 1\n",
    "Sino condición 2 entonces:\n",
    "    Tratamiento 2\n",
    ":\n",
    ":\n",
    "Sino si condición n entonces:\n",
    "    Tratamiento n"
   ]
  },
  {
   "cell_type": "markdown",
   "metadata": {
    "slideshow": {
     "slide_type": "fragment"
    }
   },
   "source": [
    "$$T(n) = max(\\mathcal{O}(Trat_1),\\mathcal{O}(Trat_2), \\ldots, \\mathcal{O}(Trat_n))$$"
   ]
  },
  {
   "cell_type": "markdown",
   "metadata": {},
   "source": [
    "Resumiendo, de forma general, las reglas que permiten obtener el orden de complejidad de un algoritmo serían (entre otras menos comunes):\n",
    "\n",
    "- ***Operaciones aritméticas elementales sobre números:*** suma, resta, producto y división, se considerará que cada una tiene un costo constante, por lo que se dice que todas ellas están en $\\Theta(1)$.\n",
    "\n",
    "\n",
    "- **Comparaciones entre datos:** *p.ej.* decidir si un número es mayor que otro, cada test de esta forma tiene costo constante también.\n",
    "\n",
    "\n",
    "- ***Asignaciones de la forma $x \\leftarrow f(a)$:*** Suponiendo que las operaciones que pueden aparecer en $f(a)$ tienen costo constante, el costo de toda la asignación también será constante. Si no, el costo de la asignación será el costo de la evaluación de $f(a)$. Igual sucede en el caso de asignaciones múltiples.\n",
    "\n",
    "\n",
    "- ***Instrucciones condicionales (`if` $A$ `then` $I_1$ `else` $I_2$):*** El costo total es la suma del costo de evaluar las condiciones booleanas $A$ (generalmente constante) más el costo de evaluar $I_1$ o $I_2$.\n",
    "\n",
    "\n",
    "- ***Ciclos `while`***: Se calcula primero el costo de cada pasada y después sumar el costo de todas las pasadas que hagan parte del ciclo. El número de estas dependerá de lo que tarde en hacerse falso $A$, teniendo en cuenta los datos concretos sobre los que se ejecute el programa y lo grandes que sean."
   ]
  },
  {
   "cell_type": "markdown",
   "metadata": {},
   "source": [
    "### 4.2.5 Llamadas recursivas"
   ]
  },
  {
   "cell_type": "markdown",
   "metadata": {},
   "source": [
    "Un algoritmo recursivo es aquel que se llama así mismo para ejecutarse. El análisis de un algoritmo recursivo suele dar lugar a una ecuación de recurrencia que imita el flujo de control dentro del algoritmo. Una vez obtenida la ecuación de recurrencia, se pueden aplicar algunas técnicas generales para transformar la ecuación en una ecuación asintótica no recursiva, que es más sencilla.\n",
    "\n",
    "Tomemos como ejemplo el algoritmo clásico de la serie de *Fibonacci*\n",
    "\n",
    "- recordemos que la forma general de la sucesión de *Fibonacci*\n",
    "\n",
    "$$F_{i}=F_{i-1}+F_{i-2}$$\n",
    "\n",
    "- es decir, el valor de la sucesión en $i$ se obtiene sumando los valores de la sucesión en los dos pasos anteriores, $i-1$ y $i-2$.\n",
    "\n",
    "El algoritmo para el cálculo del valor $n$ de la sucesión de *Fibonacci* sería entonces:"
   ]
  },
  {
   "cell_type": "raw",
   "metadata": {},
   "source": [
    "funcion Fibrec(n):\n",
    "    si n < 2 entonces\n",
    "        devolver n\n",
    "    sino:\n",
    "        devolver Fibrec(n-1) + Fibrec(n-2)"
   ]
  },
  {
   "cell_type": "code",
   "execution_count": 1,
   "metadata": {},
   "outputs": [],
   "source": [
    "def Fibrec(n):\n",
    "    if n < 2:\n",
    "        return n\n",
    "    else:\n",
    "        return Fibrec(n-1) + Fibrec(n-2)"
   ]
  },
  {
   "cell_type": "code",
   "execution_count": null,
   "metadata": {},
   "outputs": [],
   "source": [
    "print(Fibrec(5))"
   ]
  },
  {
   "cell_type": "markdown",
   "metadata": {},
   "source": [
    "Sea $T(n)$ el tiempo requerido por una llamada a `Fibrec(n)`. Si $n<2$, el algoritmo devuevuelve el valor de $n$, que lo realiza en un tiempo constante $a$.\n",
    "\n",
    "El resto del trabajo se realiza en las dos llamadas recursivas que requieren de un tiempo $T(n-1)$ y $T(n-2)$, más el tiempo de realizar las sumas de $f_{n-1}$ y $f_{n-2}$, más el control de la recursividad y la comprobación del $si$ $n<2$.\n",
    "\n",
    "Sea $h(n)$ el trabajo implicado en esta suma y en el control, esto es, el tiempo requerido para una llamada a `Fibrec(n)` ignorando los tiempos invertidos dentro de las dos llamadas recursivas. \n",
    "\n",
    "Por definición de $T(n)$ y de $h(n)$, se obtiene la siguiente recurrencia:\n",
    "\n",
    "\n",
    "$$T(n)=\\left\\{ \\begin{array}{ccc}\n",
    "a,                        & \\text{si } n=0 \\text{ o } n = 1, \\\\\n",
    "T(n-1) + T(n-2) + h(n) ,  & \\text{en caso contrario}  \n",
    "\\end{array}\n",
    "\\right. $$"
   ]
  },
  {
   "cell_type": "markdown",
   "metadata": {},
   "source": [
    "Si se cuentan las sumas con costo unitario, $h(n)$ está acotado por una constante y la ecuación de recurrencia para $T(n)$ es muy similar"
   ]
  },
  {
   "cell_type": "code",
   "execution_count": null,
   "metadata": {},
   "outputs": [],
   "source": []
  }
 ],
 "metadata": {
  "celltoolbar": "Slideshow",
  "kernelspec": {
   "display_name": "Python 3",
   "language": "python",
   "name": "python3"
  },
  "language_info": {
   "codemirror_mode": {
    "name": "ipython",
    "version": 3
   },
   "file_extension": ".py",
   "mimetype": "text/x-python",
   "name": "python",
   "nbconvert_exporter": "python",
   "pygments_lexer": "ipython3",
   "version": "3.7.1"
  }
 },
 "nbformat": 4,
 "nbformat_minor": 2
}
