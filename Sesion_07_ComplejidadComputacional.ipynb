{
 "cells": [
  {
   "cell_type": "markdown",
   "metadata": {},
   "source": [
    "<h1 align=\"center\">ANÁLISIS DE ALGORITMOS</h1>\n",
    "\n",
    "<h2 align=\"center\">Sesión 07: Complejidad Computacional</h2>\n",
    "\n",
    "<h2 align=\"center\">ESCUELA DE CIENCIAS</h2>\n",
    "\n",
    "<h2 align=\"center\">DOCTORADO EN INGENIERÍA MATEMÁTICA</h2>\n",
    "\n",
    "<h2 align=\"center\">UNIVERSIDAD EAFIT</h2>\n",
    "\n",
    "<h3 align=\"center\">MEDELLÍN - COLOMBIA </h3>\n",
    "\n",
    "<h3 align=\"center\">2019 </h3>"
   ]
  },
  {
   "cell_type": "markdown",
   "metadata": {},
   "source": [
    "### Docente: Carlos Alberto Álvarez Henao, I.C. Ph.D."
   ]
  },
  {
   "cell_type": "markdown",
   "metadata": {},
   "source": [
    "7. Complejidad computacional (Sesión 07, mar/20)\n",
    "\n",
    "    7.1 Introducción\n",
    "    \n",
    "    7.2 Teoría de la información\n",
    "    \n",
    "    7.3 Argumentos del adversario\n",
    "    \n",
    "    7.4 Reducciones lineales\n",
    "    \n",
    "    7.5 Clases P y NP\n",
    "    \n",
    "    7.6 Ejemplos y desafíos"
   ]
  },
  {
   "cell_type": "markdown",
   "metadata": {},
   "source": [
    "# Coming soon!"
   ]
  },
  {
   "cell_type": "code",
   "execution_count": null,
   "metadata": {},
   "outputs": [],
   "source": []
  }
 ],
 "metadata": {
  "kernelspec": {
   "display_name": "Python 3",
   "language": "python",
   "name": "python3"
  },
  "language_info": {
   "codemirror_mode": {
    "name": "ipython",
    "version": 3
   },
   "file_extension": ".py",
   "mimetype": "text/x-python",
   "name": "python",
   "nbconvert_exporter": "python",
   "pygments_lexer": "ipython3",
   "version": "3.6.7"
  }
 },
 "nbformat": 4,
 "nbformat_minor": 2
}
